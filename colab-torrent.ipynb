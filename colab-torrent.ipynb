{
  "nbformat": 4,
  "nbformat_minor": 0,
  "metadata": {
    "colab": {
      "name": "colab-torrent.ipynb",
      "provenance": [],
      "collapsed_sections": [],
      "authorship_tag": "ABX9TyPHXVVJcb3aohdAuhqb7xiY",
      "include_colab_link": true
    },
    "kernelspec": {
      "name": "python3",
      "display_name": "Python 3"
    }
  },
  "cells": [
    {
      "cell_type": "markdown",
      "metadata": {
        "id": "view-in-github",
        "colab_type": "text"
      },
      "source": [
        "<a href=\"https://colab.research.google.com/github/cytopz/colab-torrent/blob/master/colab-torrent.ipynb\" target=\"_parent\"><img src=\"https://colab.research.google.com/assets/colab-badge.svg\" alt=\"Open In Colab\"/></a>"
      ]
    },
    {
      "cell_type": "code",
      "metadata": {
        "id": "R-_ZKRX7SibE"
      },
      "source": [
        "# install libtorrent\n",
        "!sudo apt update && sudo apt install python3-libtorrent"
      ],
      "execution_count": null,
      "outputs": []
    },
    {
      "cell_type": "code",
      "metadata": {
        "id": "1nA8uEt3Wiu5"
      },
      "source": [
        "import time\n",
        "import libtorrent as lt\n",
        "\n",
        "# only if you want to upload to gdrive\n",
        "from google.colab import drive\n",
        "drive.mount('/gdrive', force_remount=True)\n",
        "\n",
        "# your magnet link(s) here\n",
        "MAGNET = []\n",
        "\n",
        "ses = lt.session()\n",
        "\n",
        "for m in MAGNET:\n",
        "  h = lt.add_magnet_uri(ses, m, {'save_path': '.'})\n",
        "  s = h.status()\n",
        "\n",
        "  print('getting metadata...')\n",
        "  while not h.has_metadata():\n",
        "    time.sleep(1)\n",
        "\n",
        "  print(f'downloading {h.name()}...')\n",
        "  while not h.is_seed():\n",
        "    s = h.status()\n",
        "    print(f'\\rprogress: {s.progress * 100:.2f}% (down: {s.download_rate / 1000:.1f} KB/s, up: {s.upload_rate/1000:.1f} KB/s)', end=' ')\n",
        "    time.sleep(1)\n",
        "\n",
        "  print()\n",
        "  print('download complete')\n",
        "\n",
        "  # upload to gdrive (or your desired cloud storages)\n",
        "  print('uploading to gdrive...')\n",
        "  get_ipython().system_raw(f'cp \"{h.name()}\" /gdrive/MyDrive')\n",
        "  print(f'successfully uploaded {h.name()} to gdrive')\n",
        "\n",
        "print('done.')"
      ],
      "execution_count": null,
      "outputs": []
    }
  ]
}